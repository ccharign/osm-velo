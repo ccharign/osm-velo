{
 "cells": [
  {
   "cell_type": "markdown",
   "metadata": {},
   "source": [
    "Calculateur d'itinéraire vélo à apprentissage supervisé\n",
    "=============================\n",
    "\n",
    "(Toute ma gratitude à qui trouve un nom plus vendeur)\n",
    "\n",
    "Bienvenue sur la page de test ! Ceci est un notebook jupyter. Il y a des blocs de simple texte et des blocs de code. Pour tester le programme, faire shift+entrée sur les blocs de code les uns après les autres en suivant les instructions. Le * qui appraît à côté de « Entrée » signifie que L'ordinateur réfléchit. Attendez qu'un numéro s'affiche pour passer à la suite.\n",
    " Vous pouvez modifier les arguments des fonctions. En fait vous pouvez faire ce que vous voulez : ceci est une copie qui sera immédiatement effacée."
   ]
  },
  {
   "cell_type": "markdown",
   "metadata": {},
   "source": [
    "Principe du programme\n",
    "------------------------\n",
    "\n",
    "Le fichier csv chemins.csv contient une liste d'itinéraires rentrés par des cyclistes. La petite IA programmée dans le module «apprentissage» va en déduire un coefficient de cyclabilité pour chaque tronçon de route. Et le calculateur d'itinéraires prendra cette cyclabilité en compte."
   ]
  },
  {
   "cell_type": "markdown",
   "metadata": {},
   "source": [
    "Pour commencer on charge les bibliothèques. Patience, c'est un peu lourd, notamment à cause de chargement en mémoire de la carte openstreetmap."
   ]
  },
  {
   "cell_type": "code",
   "execution_count": 1,
   "metadata": {},
   "outputs": [],
   "source": [
    "#bibs Python\n",
    "import matplotlib\n",
    "matplotlib.use('TKAgg') # Affichage des figures dans une fenêtre séparée. Mais ça plante pour l'instant !\n",
    "import networkx as nx # graphe\n",
    "import osmnx as ox\n",
    "import requests\n",
    "import matplotlib.cm as cm\n",
    "import matplotlib.colors as colors\n",
    "ox.config(use_cache=True, log_console=True, all_oneway=False)\n",
    "\n",
    "#Modules de ce projet\n",
    "from module_graphe import graphe #ma classe de graphe\n",
    "import init_graphe\n",
    "import apprentissage\n",
    "import dijkstra\n",
    "import chemins # classe chemin et lecture du csv"
   ]
  },
  {
   "cell_type": "markdown",
   "metadata": {},
   "source": [
    "Chargement du graphe. S'il est en mémoire tout va bien. Sinon il est récupéré depuis openstreetmap, patience..."
   ]
  },
  {
   "cell_type": "code",
   "execution_count": 2,
   "metadata": {},
   "outputs": [
    {
     "name": "stdout",
     "output_type": "stream",
     "text": [
      "Graphe en mémoire !\n",
      "Chargement du cache nœud_of_rue.\n"
     ]
    }
   ],
   "source": [
    "g = init_graphe.charge_graphe(zone = \"Pau, France\", bavard=1)"
   ]
  },
  {
   "cell_type": "markdown",
   "metadata": {},
   "source": [
    "Chargement du fichier csv"
   ]
  },
  {
   "cell_type": "code",
   "execution_count": 3,
   "metadata": {},
   "outputs": [
    {
     "name": "stdout",
     "output_type": "stream",
     "text": [
      "['oui', '30', '20 chemin Guilhem; avenue Sambre et Meuse;cours Bosquet; place de la République']\n",
      "['oui', '30', 'rue des réparatrices; avenue San Carlos;avenue des acacias;avenue de Montebello;avenue Bié Moulié;rue Gutenberg']\n",
      "['oui', '30', 'avenue du Loup;chemin des écoliers;rue Mozart;chemin Guilhem']\n",
      "['oui', '30', 'Rond-Point Éric Tabarly; Chemin Labriart; Rue Cassiopée; Rue Blanqui; Rue Paul Bert; Rue Marx Dormoy; CSTJF']\n"
     ]
    }
   ],
   "source": [
    "tous_les_chemins = chemins.chemins_of_csv(\"données/chemins.csv\", g)"
   ]
  },
  {
   "cell_type": "markdown",
   "metadata": {},
   "source": [
    "Pour jouer un peu, la fonction suivanteu permet de rajouter des chemins à la mains :"
   ]
  },
  {
   "cell_type": "code",
   "execution_count": 4,
   "metadata": {},
   "outputs": [],
   "source": [
    "def ajoute_chemin(étapes, AR=True, pourcentage_détour=30):\n",
    "    \"\"\" Entrées : - étapes (str list) liste des adresses des étapes.\n",
    "                  - AR (bool) indique si le retour est valable aussi\n",
    "                  - pourcentage_détour (int) pourcentage de détour accepté par le cycliste qui propose cet iténéraire.\"\"\"\n",
    "    tous_les_chemins.append(chemins.Chemin.of_étapes(étapes, pourcentage_détour, AR, g))"
   ]
  },
  {
   "cell_type": "markdown",
   "metadata": {},
   "source": [
    "Voici un exemple d'utilisation. Concernant l'argument pourcentage_détour, voici le point de référence : 100 signifie que le cycliste accepte de faire un trajet deux fois plus long pour remplacer un trajet qui serait en totalité comme la rue Faisans par un trajet qui serait en totalité comme la piste cyclable du Fébus."
   ]
  },
  {
   "cell_type": "code",
   "execution_count": 5,
   "metadata": {},
   "outputs": [],
   "source": [
    "#ajoute_chemin( [\"rue Louis Barthou\", \"rue Lamothe\", \"rue Jean Monnet\", \"rue Galos\", \"place de la république\"], True, 20)"
   ]
  },
  {
   "cell_type": "markdown",
   "metadata": {},
   "source": [
    "La fonction suivante indique pour tous les chemins présents dans le csv le chemin le plus court (rouge) et le chemin indiqué dans le fichier (en bleu). En outre elle lance l'apprentissage."
   ]
  },
  {
   "cell_type": "code",
   "execution_count": 6,
   "metadata": {},
   "outputs": [],
   "source": [
    "def affiche_avant_après(chemins, g, nb_lectures):\n",
    "    \n",
    "    chemins_avant = [ dijkstra.chemin(g, c.départ(), c.arrivée(), c.p_détour) for c in chemins ]\n",
    "\n",
    "    for _ in range(nb_lectures):\n",
    "        apprentissage.lecture_plusieurs_chemins(g, chemins)\n",
    "    \n",
    "    chemins_après = [ dijkstra.chemin(g, c.départ(), c.arrivée(), c.p_détour) for c in chemins ]\n",
    "    \n",
    "    g.affiche_chemins( chemins_avant+chemins_après, {\"route_colors\":['r']*len(chemins_avant)+['b']*len(chemins_après)} )"
   ]
  },
  {
   "cell_type": "markdown",
   "metadata": {},
   "source": [
    "Maintenant que la fonction a été créée, il faut la lancer !\n",
    "Le paramètre nb_lectures est le nombre de fois qu'on va présenter les chemins à l'IA."
   ]
  },
  {
   "cell_type": "code",
   "execution_count": 7,
   "metadata": {},
   "outputs": [],
   "source": [
    "#%matplotlib notebook "
   ]
  },
  {
   "cell_type": "code",
   "execution_count": null,
   "metadata": {
    "scrolled": true
   },
   "outputs": [],
   "source": [
    "affiche_avant_après(tous_les_chemins, g, 10)"
   ]
  },
  {
   "cell_type": "markdown",
   "metadata": {},
   "source": [
    "(Je ne vois pas comment zoomer sur l'image dans cette interface... À chercher.)"
   ]
  },
  {
   "cell_type": "markdown",
   "metadata": {},
   "source": [
    "La fonction finale : prend deux adresses et affiche l'itinéraire. L'argument p_détour est la proportion de détour acceptée. 0=pas de détour."
   ]
  },
  {
   "cell_type": "code",
   "execution_count": null,
   "metadata": {},
   "outputs": [],
   "source": [
    "def itinéraire(départ, arrivée, p_détour, g):\n",
    "    \"\"\" Fonction finale. Affiche l'itinéraire, en utilisant le graphe déjà entrainé.\"\"\"\n",
    "    id_d = g.nœud_centre_rue(départ)\n",
    "    id_a = g.nœud_centre_rue(arrivée)\n",
    "    c = g.chemin(id_d, id_a, p_détour)\n",
    "    g.affiche_chemin(c)"
   ]
  },
  {
   "cell_type": "markdown",
   "metadata": {},
   "source": [
    "Utilisation de la fonction finale. Remplacez les adresses par ce que vous voulez (à Pau pour l'instant...). Gardez en tête que les adresses sont retrouvées depuis openstreetmap, qui n'a pas très à l'ausi avec les fautes de frappe."
   ]
  },
  {
   "cell_type": "code",
   "execution_count": null,
   "metadata": {},
   "outputs": [],
   "source": [
    "itinéraire(\"rue Roger Salengro\", \"rue Jean Moulin\",.5, g)\n"
   ]
  },
  {
   "cell_type": "markdown",
   "metadata": {},
   "source": [
    "Si on veut bien voir l'apport de l'IA, la fonction suivante afiche d'abord le chemin le plus court classique, puis lance l'apprentissage, et affiche le nouveau chemin en bleu."
   ]
  },
  {
   "cell_type": "code",
   "execution_count": null,
   "metadata": {},
   "outputs": [],
   "source": [
    "def test(départ, arrivée, p_détour):\n",
    "    \"\"\" départ et arrivée : des adresses (type str)\"\"\"\n",
    "    g.réinitialise_cyclabilité() # On efface l'apprentissage.\n",
    "    id_d = g.nœud_centre_rue(départ)\n",
    "    id_a = g.nœud_centre_rue(arrivée)\n",
    "\n",
    "    chemin_avant = g.chemin(id_d, id_a, p_détour)\n",
    "\n",
    "\n",
    "    apprentissage.n_lectures(10, g, tous_les_chemins, bavard=1)\n",
    "\n",
    "    chemin_après = g.chemin(id_d, id_a, p_détour)\n",
    "\n",
    "    g.affiche_chemins([chemin_avant, chemin_après], {\"route_colors\":[\"r\",\"b\"]})"
   ]
  },
  {
   "cell_type": "code",
   "execution_count": null,
   "metadata": {},
   "outputs": [],
   "source": [
    "test(\"rue Roger Salengro\", \"rue Jean Moulin\",.5)"
   ]
  },
  {
   "cell_type": "markdown",
   "metadata": {},
   "source": [
    "Sur cet exemple on voit que l'IA a appris qu'il valait mieux passer par le chemin des écoles et la rue Mozart."
   ]
  }
 ],
 "metadata": {
  "kernelspec": {
   "display_name": "Python 3",
   "language": "python",
   "name": "python3"
  },
  "language_info": {
   "codemirror_mode": {
    "name": "ipython",
    "version": 3
   },
   "file_extension": ".py",
   "mimetype": "text/x-python",
   "name": "python",
   "nbconvert_exporter": "python",
   "pygments_lexer": "ipython3",
   "version": "3.8.6"
  }
 },
 "nbformat": 4,
 "nbformat_minor": 4
}
