{
 "cells": [
  {
   "cell_type": "markdown",
   "metadata": {},
   "source": [
    "Calculateur d'itinéraire vélo à apprentissage supervisé\n",
    "=============================\n",
    "\n",
    "(Toute ma gratitude à qui trouve un nom plus vendeur)\n",
    "\n",
    "Bienvenue sur la page de test ! Ceci est un notebook jupyter. Il y a des blocs de simple texte et des blocs de code. Pour tester le programme, faire shift+entrée sur les blocs de code les uns après les autres en suivant les instructions. Le * qui appraît à côté de « Entrée » signifie que L'ordinateur réfléchit. Attendez qu'un numéro s'affiche pour passer à la suite.\n",
    " Vous pouvez modifier les arguments des fonctions. En fait vous pouvez faire ce que vous voulez : ceci est une copie qui sera immédiatement effacée."
   ]
  },
  {
   "cell_type": "markdown",
   "metadata": {},
   "source": [
    "Principe du programme\n",
    "------------------------\n",
    "\n",
    "Le fichier csv chemins.csv contient une liste d'itinéraires rentrés par des cyclistes. La petite IA programmée dans le module «apprentissage» va en déduire un coefficient de cyclabilité pour chaque tronçon de route. Et le calculateur d'itinéraires prendra cette cyclabilité en compte."
   ]
  },
  {
   "cell_type": "markdown",
   "metadata": {},
   "source": [
    "Chargement des données\n",
    "----------------------------"
   ]
  },
  {
   "cell_type": "markdown",
   "metadata": {},
   "source": [
    "Pour commencer on charge les bibliothèques."
   ]
  },
  {
   "cell_type": "code",
   "execution_count": 1,
   "metadata": {},
   "outputs": [],
   "source": [
    "#Pour permettre l'affichage interactif des figures (zoom notamment)\n",
    "import matplotlib\n",
    "matplotlib.use('nbagg')\n",
    "from IPython.display import IFrame  # Affichage d’une page web dans le notebook\n",
    "import osmnx as ox # Extraction des données openstreetmap\n",
    "import os\n",
    "import sys"
   ]
  },
  {
   "cell_type": "code",
   "execution_count": null,
   "metadata": {},
   "outputs": [],
   "source": []
  },
  {
   "cell_type": "code",
   "execution_count": 4,
   "metadata": {},
   "outputs": [
    {
     "name": "stdout",
     "output_type": "stream",
     "text": [
      "nouveau chargement de params.py\n",
      "\n",
      "\n",
      "nouveau chargement de params.py\n",
      "\n",
      "\n",
      "Chargement du xml dijk/progs_python/données/voies_et_nœuds.osm\n",
      "fini\n",
      "\n",
      "2021-09-04 15:18:59 Configured OSMnx 1.1.1\n",
      "2021-09-04 15:18:59 HTTP response caching is on\n",
      "2021-09-04 15:18:59 Configured OSMnx 1.1.1\n",
      "2021-09-04 15:18:59 HTTP response caching is on\n"
     ]
    }
   ],
   "source": [
    "#Modules de ce projet\n",
    "from dijk.progs_python.params import TMP\n",
    "from init_graphe import charge_graphe # initialisation du graphe\n",
    "import apprentissage\n",
    "import dijkstra\n",
    "import chemins # lecture du csv, manipulation des chemins\n",
    "import utils # les fonctions de base pour utiliser le logiciel"
   ]
  },
  {
   "cell_type": "markdown",
   "metadata": {},
   "source": [
    "Chargement du graphe. L’argument facultatif bavard indique la quantité d’infos qui seront affichées"
   ]
  },
  {
   "cell_type": "code",
   "execution_count": 5,
   "metadata": {},
   "outputs": [
    {
     "name": "stdout",
     "output_type": "stream",
     "text": [
      "2021-09-04 15:19:00 Converting node, edge, and graph-level attribute data types\n",
      "Graphe en mémoire !2021-09-04 15:19:01 Loaded graph with 15478 nodes and 21550 edges from \"dijk/progs_python/donne?es/-0.428543.2671-0.254143.3403.graphml\"\n",
      "\n",
      "Calcul de la version sans multiarêtes\n",
      "Chargement du cache nœud_of_rue.\n",
      "Chargement de la cyclabilité\n",
      "Chargement de la cyclabilité\n",
      "Ajout du nom des villes\n",
      "Ajout de la liste des nœuds de chaque rue\n",
      "Chargement de la liste des nœuds de chaque rue finie.\n",
      "Chargement du graphe fini.\n",
      "\n"
     ]
    }
   ],
   "source": [
    "g = charge_graphe(bavard=1) "
   ]
  },
  {
   "cell_type": "markdown",
   "metadata": {},
   "source": [
    "Test rapide\n",
    "---------------\n",
    "\n",
    "La fonction utils.itinéraire affiche l’itinéraire calculé entre deux adresses.\n",
    "\n",
    "Le troisième argument (prérempli à 0.3) est la proportion de détour acceptée. En le mettant à 0 vous obtenez le plus court chemin. Si vous le mettez à 1 cela signifie que vous êtes prêt à faire un trajet deux fois plus long pour remplacer un trajet médiocre (référence : la rue Faisans) par une vraie piste cyclable (référence : celle du Fébus)"
   ]
  },
  {
   "cell_type": "code",
   "execution_count": 6,
   "metadata": {},
   "outputs": [],
   "source": [
    "def itinéraire(départ, arrivée, p_détour, g, où_enregistrer=TMP, bavard=0):\n",
    "    \"\"\" Version pour le notebook\"\"\"\n",
    "    d = chemins.Étape(départ, g)\n",
    "    a = chemins.Étape(arrivée, g)\n",
    "    c = chemins.Chemin([d, a], p_détour, False)\n",
    "    res = g.chemin_étapes_ensembles(c)\n",
    "    graphe_c = g.multidigraphe.subgraph(res)\n",
    "    carte = ox.plot_graph_folium(graphe_c, popup_attribute=\"name\")\n",
    "    nom = \"tmp/résultat_itinéraire.html\"\n",
    "    carte.save(nom)\n",
    "    print(nom)\n",
    "    display(IFrame(nom, width=800, height=600))"
   ]
  },
  {
   "cell_type": "code",
   "execution_count": 7,
   "metadata": {},
   "outputs": [
    {
     "data": {
      "text/plain": [
       "'/home/moi/git/osm vélo/site_vélo'"
      ]
     },
     "execution_count": 7,
     "metadata": {},
     "output_type": "execute_result"
    }
   ],
   "source": [
    "os.getcwd()"
   ]
  },
  {
   "cell_type": "code",
   "execution_count": 8,
   "metadata": {},
   "outputs": [
    {
     "name": "stdout",
     "output_type": "stream",
     "text": [
      "2021-09-04 15:19:08 Created edges GeoDataFrame from graph\n",
      "tmp/résultat_itinéraire.html\n"
     ]
    },
    {
     "data": {
      "text/html": [
       "\n",
       "        <iframe\n",
       "            width=\"800\"\n",
       "            height=\"600\"\n",
       "            src=\"tmp/résultat_itinéraire.html\"\n",
       "            frameborder=\"0\"\n",
       "            allowfullscreen\n",
       "        ></iframe>\n",
       "        "
      ],
      "text/plain": [
       "<IPython.lib.display.IFrame at 0x7f7c7c584220>"
      ]
     },
     "metadata": {},
     "output_type": "display_data"
    }
   ],
   "source": [
    "itinéraire(\"lycée louis barthou\", \"parc lawrence\", 0.3, g, bavard=3)"
   ]
  },
  {
   "cell_type": "code",
   "execution_count": 9,
   "metadata": {},
   "outputs": [
    {
     "name": "stdout",
     "output_type": "stream",
     "text": [
      "2021-09-04 15:19:14 Created edges GeoDataFrame from graph\n",
      "tmp/résultat_itinéraire.html\n"
     ]
    },
    {
     "data": {
      "text/html": [
       "\n",
       "        <iframe\n",
       "            width=\"800\"\n",
       "            height=\"600\"\n",
       "            src=\"tmp/résultat_itinéraire.html\"\n",
       "            frameborder=\"0\"\n",
       "            allowfullscreen\n",
       "        ></iframe>\n",
       "        "
      ],
      "text/plain": [
       "<IPython.lib.display.IFrame at 0x7f7c7cae3760>"
      ]
     },
     "metadata": {},
     "output_type": "display_data"
    }
   ],
   "source": [
    "# Sans détour à titre de comparaison\n",
    "itinéraire(\"lycée louis barthou\", \"parc lawrence\", 0, g, bavard=3)"
   ]
  },
  {
   "cell_type": "markdown",
   "metadata": {},
   "source": [
    "Pour jouer avec l’IA\n",
    "------------------------"
   ]
  },
  {
   "cell_type": "markdown",
   "metadata": {},
   "source": [
    "La commande suivante charge les chemins dont je dispose:"
   ]
  },
  {
   "cell_type": "code",
   "execution_count": 8,
   "metadata": {},
   "outputs": [
    {
     "name": "stdout",
     "output_type": "stream",
     "text": [
      "\n",
      " ['oui', '30', 'rue des Véroniques; rue Voltaire; rue Sambre et Meuse;cours Bosquet; place de la République']\n",
      "Mis en cache : [459812758, 459812765, 459812764, 8943628592, 459812771] pour rue des veroniques\n",
      "Mis en cache : [459278230, 459278232, 459278235, 459278234, 766490866] pour rue voltaire\n",
      "\n",
      " ['oui', '30', 'rue des réparatrices; avenue San Carlos;avenue des acacias;avenue de Montebello;avenue Bié-Moulié;rue Gutenberg']\n",
      "\n",
      " ['oui', '30', 'avenue du Loup;chemin des écoliers;rue Mozart;chemin Guilhem']\n",
      "\n",
      " ['oui', '30', 'Rond-Point Éric Tabarly; Chemin Labriart; Rue Cassiopée; Rue Blanqui; Rue Paul Bert; Rue Marx Dormoy; CSTJF']\n",
      "\n",
      " ['oui', '20', \"rue d'étigny; place gramont; rue tran; place de la libération; rue gassiot; rue carnot; rue cazaubon norbert; boulevard d'alsace-lorraine; cours lyautey; avenue de saragosse; avenue de buros; 84 avenue de buros\"]\n",
      "\n",
      " ['oui', '20', 'véloroute V81 (64320 mazères-lezons) ; véloroute V81 (64320 bizanos)  ; 13 rue de verdun (64320 bizanos) ; avenue albert 1er (64320 bizanos) ; 69 rue pasteur (64320 bizanos) ; 58 rue pasteur (64320 bizanos) ; 35 rue pasteur (64320 bizanos) ; 11 rue pasteur (64320 bizanos) ; 13 avenue de barèges (64000 PAU) ; avenue léon say (64000 PAU) ; rue léon daran ; place saint-louis de gonzague ; rue valéry meunier ; 24 rue du maréchal foch ; rue serviez ; rue carnot ; rue cazaubon norbert ; cours lyautey ; 62 avenue louis sallenave ; 88 avenue louis sallenave ; 145 avenue philippon ; 347 Boulevard du Cami Salié']\n",
      "(nœuds_sur_rue) Rue pas en mémoire : veloroute v81 (mazeres lezons)  ('mazeres lezons').\n",
      "Échec pour l’étape véloroute V81 (64320 mazères-lezons) \n",
      "Échec pour l’étape  13 rue de verdun (64320 bizanos) \n",
      "Échec pour l’étape  13 avenue de barèges (64000 PAU) \n",
      "Échec pour l’étape  145 avenue philippon \n",
      "Échec pour l’étape  347 Boulevard du Cami Salié\n",
      "\n",
      " ['oui', '0', 'rue de Lagardère ; avenue Trespoey ; place Clémenceau ; rue Serviez ; place des sept cantons; rue Bernadotte ; rue de Liège ; rue Lapouble']\n",
      "(nœuds_sur_rue) Rue pas en mémoire : place des sept cantons (pau)  ('place des sept cantons').\n",
      "2021-08-28 10:38:18 Created nodes GeoDataFrame from graph\n",
      "Mis en cache : [339675095] pour place des sept cantons\n",
      "\n",
      " ['oui', '40', '4 rue Mourot; rue Montpensier; rond-point du souvenir français; avenue de montardon; boulevard du cami salié; allée buffon; chemin de la forêt bastard']\n",
      "Échec pour l’étape 4 rue Mourot\n",
      "\n",
      " ['oui', '40', '4 rue Ramond de Carbonnières; avenue Henry Russel;avenue Trespoey;Lycée Barthou']\n",
      "Échec pour l’étape 4 rue Ramond de Carbonnières\n",
      "\n",
      " ['non', '30', \"rue d'Artouste; avenue d'Attigny; avenue de Montardon; rue du Pin; boulevard Recteur Jean Sarrailh; rue Victor Ladevèze; rue du père Pardies; rue Viard; rue Montpensier; rue Serviez; place Georges Clémenceau\"]\n",
      "Mis en cache : [322850824, 8361065312, 329515983, 326073834] pour rue du pin\n",
      "\n",
      " ['non', '30', \"place Georges Clémenceau; rue Serviez; rue Gassiot; rue Mourot; place Albert 1er; rue Duplaa; rue Perpignaa; rue de Monpezat; rue Montpensier; parc Lawrence; rue du père Pardies; rue Victor Ladevèze; boulevard Recteur Jean Sarrailh; rue du Pin; 71 avenue de Montardon; avenue d'Attigny; rue d'Artouste\"]\n",
      "Échec pour l’étape  71 avenue de Montardon\n",
      "\n",
      " ['non', '20', 'rue Montpensier; rue Serviez; rue Latapie; rue Gambetta; allée Alfred de Musset']\n"
     ]
    }
   ],
   "source": [
    "tous_les_chemins = chemins.chemins_of_csv(g)"
   ]
  },
  {
   "cell_type": "code",
   "execution_count": 9,
   "metadata": {},
   "outputs": [
    {
     "data": {
      "text/plain": [
       "12"
      ]
     },
     "execution_count": 9,
     "metadata": {},
     "output_type": "execute_result"
    }
   ],
   "source": [
    "len(tous_les_chemins) # Pour voir combien il y en a"
   ]
  },
  {
   "cell_type": "markdown",
   "metadata": {},
   "source": [
    "La fonction suivante permet de rajouter des chemins à la main :"
   ]
  },
  {
   "cell_type": "code",
   "execution_count": 10,
   "metadata": {},
   "outputs": [],
   "source": [
    "def ajoute_chemin(étapes, AR=True, pourcentage_détour=30):\n",
    "    \"\"\" Entrées : - étapes (str list) liste des adresses des étapes.\n",
    "                  - AR (bool) indique si le retour est valable aussi\n",
    "                  - pourcentage_détour (int) pourcentage de détour accepté par le cycliste qui propose cet iténéraire.\"\"\"\n",
    "    tous_les_chemins.append(chemins.Chemin.of_étapes(étapes, pourcentage_détour, AR, g))"
   ]
  },
  {
   "cell_type": "markdown",
   "metadata": {},
   "source": [
    "Voici un exemple d'utilisation. Attention, ici on utilise un pourcentage de détour, au lieu d’une proportion. En pratique c’est 100 fois plus."
   ]
  },
  {
   "cell_type": "code",
   "execution_count": 11,
   "metadata": {},
   "outputs": [
    {
     "name": "stdout",
     "output_type": "stream",
     "text": [
      "Mis en cache : [307639922, 6152162709] pour rue lamothe\n",
      "Mis en cache : [296917292, 6515105577, 296917958, 6152162709] pour rue jean monnet\n",
      "Mis en cache : [339675110, 913161306, 339675112] pour rue galos\n"
     ]
    }
   ],
   "source": [
    "ajoute_chemin( [\"lycée Louis Barthou\", \"rue Lamothe\", \"rue Jean Monnet\", \"rue Galos\", \"place de la république\"], True, 20)"
   ]
  },
  {
   "cell_type": "code",
   "execution_count": 12,
   "metadata": {},
   "outputs": [
    {
     "data": {
      "text/plain": [
       "13"
      ]
     },
     "execution_count": 12,
     "metadata": {},
     "output_type": "execute_result"
    }
   ],
   "source": [
    "len(tous_les_chemins)"
   ]
  },
  {
   "cell_type": "markdown",
   "metadata": {},
   "source": [
    "Utilisez cette fonction pour rajouter autant de chemins que vous le souhaitez !"
   ]
  },
  {
   "cell_type": "code",
   "execution_count": null,
   "metadata": {},
   "outputs": [],
   "source": []
  },
  {
   "cell_type": "code",
   "execution_count": null,
   "metadata": {},
   "outputs": [],
   "source": []
  },
  {
   "cell_type": "code",
   "execution_count": null,
   "metadata": {},
   "outputs": [],
   "source": []
  },
  {
   "cell_type": "code",
   "execution_count": null,
   "metadata": {},
   "outputs": [],
   "source": []
  },
  {
   "cell_type": "markdown",
   "metadata": {},
   "source": [
    "La fonction suivant élimine les chemins incorrects (notamment s’il y a une faute de frappe dans un des noms de rues)"
   ]
  },
  {
   "cell_type": "code",
   "execution_count": 13,
   "metadata": {},
   "outputs": [],
   "source": [
    "tous_les_chemins = utils.cheminsValides(tous_les_chemins, g)"
   ]
  },
  {
   "cell_type": "code",
   "execution_count": 14,
   "metadata": {},
   "outputs": [
    {
     "data": {
      "text/plain": [
       "13"
      ]
     },
     "execution_count": 14,
     "metadata": {},
     "output_type": "execute_result"
    }
   ],
   "source": [
    "len(tous_les_chemins)"
   ]
  },
  {
   "cell_type": "markdown",
   "metadata": {},
   "source": [
    "Pour réinitialiser l’IA:"
   ]
  },
  {
   "cell_type": "code",
   "execution_count": 15,
   "metadata": {},
   "outputs": [],
   "source": [
    "g.réinitialise_cyclabilité()"
   ]
  },
  {
   "cell_type": "markdown",
   "metadata": {},
   "source": [
    "Et pour la ré-entrainer avec tous les chemins :"
   ]
  },
  {
   "cell_type": "code",
   "execution_count": 16,
   "metadata": {},
   "outputs": [
    {
     "name": "stdout",
     "output_type": "stream",
     "text": [
      "Début de l'apprentissage. C'est parti pour 10 lectures.\n",
      " ----- Étape 0, 1555 arêtes modifiées -----\n",
      " ----- Étape 1, 1281 arêtes modifiées -----\n",
      " ----- Étape 2, 918 arêtes modifiées -----\n",
      " ----- Étape 3, 602 arêtes modifiées -----\n",
      " ----- Étape 4, 524 arêtes modifiées -----\n",
      " ----- Étape 5, 332 arêtes modifiées -----\n",
      " ----- Étape 6, 320 arêtes modifiées -----\n",
      " ----- Étape 7, 317 arêtes modifiées -----\n",
      " ----- Étape 8, 241 arêtes modifiées -----\n",
      " ----- Étape 9, 203 arêtes modifiées -----\n"
     ]
    }
   ],
   "source": [
    "apprentissage.n_lectures(10, g, tous_les_chemins, bavard=1)"
   ]
  },
  {
   "cell_type": "markdown",
   "metadata": {},
   "source": [
    "Maintenant, vous pouvez relancer utils.itinéraire"
   ]
  },
  {
   "cell_type": "code",
   "execution_count": 26,
   "metadata": {},
   "outputs": [
    {
     "name": "stdout",
     "output_type": "stream",
     "text": [
      "Mis en cache : [296917277, 339665895, 339665896, 340280212, 296917278, 340280208, 340280196, 339803903, 2970387517, 339803913, 339803911, 296917279] pour rue castetnau\n",
      "2021-08-29 21:48:07 Created edges GeoDataFrame from graph\n",
      "tmp/lycéelouisbarthouruecastetnau.html\n"
     ]
    },
    {
     "data": {
      "text/html": [
       "\n",
       "        <iframe\n",
       "            width=\"800\"\n",
       "            height=\"600\"\n",
       "            src=\"tmp/lycéelouisbarthouruecastetnau.html\"\n",
       "            frameborder=\"0\"\n",
       "            allowfullscreen\n",
       "        ></iframe>\n",
       "        "
      ],
      "text/plain": [
       "<IPython.lib.display.IFrame at 0x7fd9c0985220>"
      ]
     },
     "metadata": {},
     "output_type": "display_data"
    }
   ],
   "source": [
    "itinéraire(\"lycée louis barthou\", \"rue castetnau\", .3, g, bavard=1)"
   ]
  },
  {
   "cell_type": "code",
   "execution_count": null,
   "metadata": {},
   "outputs": [],
   "source": []
  }
 ],
 "metadata": {
  "kernelspec": {
   "display_name": "Python 3 (ipykernel)",
   "language": "python",
   "name": "python3"
  },
  "language_info": {
   "codemirror_mode": {
    "name": "ipython",
    "version": 3
   },
   "file_extension": ".py",
   "mimetype": "text/x-python",
   "name": "python",
   "nbconvert_exporter": "python",
   "pygments_lexer": "ipython3",
   "version": "3.9.5"
  }
 },
 "nbformat": 4,
 "nbformat_minor": 4
}
